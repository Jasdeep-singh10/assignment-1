{
 "cells": [
  {
   "cell_type": "markdown",
   "id": "ad06254d-335e-44ac-9648-31c6500d22b3",
   "metadata": {},
   "source": [
    "## question 1 \n",
    "#### solution - "
   ]
  },
  {
   "cell_type": "code",
   "execution_count": 2,
   "id": "064fe72c-f770-4988-af45-60aa013778db",
   "metadata": {},
   "outputs": [],
   "source": [
    "class vehicle : \n",
    "    \n",
    "    def __init__(self , name_of_vehicle, max_speed ,average_of_vehicle) :\n",
    "        self.name_of_vehicle = name_of_vehicle \n",
    "        self.max_speed = max_speed\n",
    "        self.average_of_vehicle = average_of_vehicle\n",
    "        \n",
    "    def vehicle_details(self) : \n",
    "        return self.name_of_vehicle , self.max_speed , self.average_of_vehicle\n",
    "        "
   ]
  },
  {
   "cell_type": "code",
   "execution_count": 3,
   "id": "a6b6aa4e-84d9-448b-be7b-8fd35ce8e8a3",
   "metadata": {},
   "outputs": [],
   "source": [
    "toyota = vehicle('innova' , 180 , 14)"
   ]
  },
  {
   "cell_type": "code",
   "execution_count": 5,
   "id": "c24dd068-e618-4c4f-8665-a1f1f42d90fb",
   "metadata": {},
   "outputs": [
    {
     "data": {
      "text/plain": [
       "('innova', 180, 14)"
      ]
     },
     "execution_count": 5,
     "metadata": {},
     "output_type": "execute_result"
    }
   ],
   "source": [
    "toyota.vehicle_details()"
   ]
  },
  {
   "cell_type": "markdown",
   "id": "c8e0965c-96bb-4612-90c3-972e6b4c30a2",
   "metadata": {},
   "source": [
    "## question 2 \n",
    "#### solution - "
   ]
  },
  {
   "cell_type": "code",
   "execution_count": 15,
   "id": "e57a96be-bddf-4b71-8c0a-0de529ff8f83",
   "metadata": {},
   "outputs": [],
   "source": [
    "class car(vehicle) : \n",
    "    \n",
    "    def __init__(self , capacity) : \n",
    "        self.capacity = capacity\n",
    "    def seating_capacity(self ) : \n",
    "        return self.capacity"
   ]
  },
  {
   "cell_type": "code",
   "execution_count": 16,
   "id": "3a08d855-ebfe-475e-b904-9693480ceede",
   "metadata": {},
   "outputs": [],
   "source": [
    "toyota = car(5)"
   ]
  },
  {
   "cell_type": "code",
   "execution_count": 17,
   "id": "4149b2c2-4440-4ca2-b2ee-aad64d231f24",
   "metadata": {},
   "outputs": [
    {
     "data": {
      "text/plain": [
       "5"
      ]
     },
     "execution_count": 17,
     "metadata": {},
     "output_type": "execute_result"
    }
   ],
   "source": [
    "toyota.seating_capacity()"
   ]
  },
  {
   "cell_type": "markdown",
   "id": "1a2514f4-4506-40e4-813e-33bac02abae4",
   "metadata": {},
   "source": [
    "## question 3 \n",
    "#### solution -  in multiple in heritance, we create multible classes and inherit with each other so that we can access any method of any clas through any class object.\n",
    "* example - "
   ]
  },
  {
   "cell_type": "code",
   "execution_count": 18,
   "id": "97d01bc2-72c5-4849-9599-953bcbb5ac54",
   "metadata": {},
   "outputs": [],
   "source": [
    "class class1 : \n",
    "    def classs1(self) : \n",
    "        pass "
   ]
  },
  {
   "cell_type": "code",
   "execution_count": 28,
   "id": "483e6b8e-8b4e-4e13-b272-5479f0cd60a6",
   "metadata": {},
   "outputs": [],
   "source": [
    "class class2 : \n",
    "    \n",
    "    def classs2(self) : \n",
    "        return 'hii'\n"
   ]
  },
  {
   "cell_type": "code",
   "execution_count": 29,
   "id": "0fa4332e-7bff-4e90-956b-569b11fb4e89",
   "metadata": {},
   "outputs": [],
   "source": [
    "class class3(class1 , class2): \n",
    "    def classs3(self) : \n",
    "        pass"
   ]
  },
  {
   "cell_type": "code",
   "execution_count": 30,
   "id": "233c34a1-54e2-4660-80f8-a9a52ac562ae",
   "metadata": {},
   "outputs": [],
   "source": [
    "obj_class3 = class3()"
   ]
  },
  {
   "cell_type": "code",
   "execution_count": 31,
   "id": "5b36fecd-aa40-4ab4-bb86-49f59ff1df22",
   "metadata": {},
   "outputs": [
    {
     "data": {
      "text/plain": [
       "'hii'"
      ]
     },
     "execution_count": 31,
     "metadata": {},
     "output_type": "execute_result"
    }
   ],
   "source": [
    "obj_class3.classs2()"
   ]
  },
  {
   "cell_type": "markdown",
   "id": "aba3e290-d393-432d-a7e0-0a06ba2e9476",
   "metadata": {},
   "source": [
    "## question 4 \n",
    "#### solution - unable to find the answer"
   ]
  },
  {
   "cell_type": "markdown",
   "id": "139ce3ed-3ecc-4c7f-8ef2-1c87ad15e05e",
   "metadata": {},
   "source": [
    "## question 5 ]\n",
    "#### solution - "
   ]
  },
  {
   "cell_type": "code",
   "execution_count": 33,
   "id": "1a8fdabd-3047-4703-9b07-6a075f3afa9c",
   "metadata": {},
   "outputs": [],
   "source": [
    "class parent1(): \n",
    "    \n",
    "    def show(self) : \n",
    "        return 'inside parent1' "
   ]
  },
  {
   "cell_type": "code",
   "execution_count": 34,
   "id": "405c2d3e-9391-44ac-a653-38ec9e7e4c79",
   "metadata": {},
   "outputs": [],
   "source": [
    "class parent2() : \n",
    "    \n",
    "    def display(self) : \n",
    "        return ' inside parent2'"
   ]
  },
  {
   "cell_type": "code",
   "execution_count": 35,
   "id": "34450ac0-b139-46f1-a05c-a3e0c8f05372",
   "metadata": {},
   "outputs": [],
   "source": [
    "class child(parent1 , parent2) : \n",
    "    \n",
    "    def show(self) : \n",
    "        return ' inside child ' "
   ]
  },
  {
   "cell_type": "code",
   "execution_count": 36,
   "id": "a87f0b4e-c5a4-46a8-a68b-2a89f14d263a",
   "metadata": {},
   "outputs": [],
   "source": [
    "obj1 = child()"
   ]
  },
  {
   "cell_type": "code",
   "execution_count": 39,
   "id": "a39280b7-5e13-41f0-9334-49aee7b4e068",
   "metadata": {},
   "outputs": [
    {
     "data": {
      "text/plain": [
       "' inside child '"
      ]
     },
     "execution_count": 39,
     "metadata": {},
     "output_type": "execute_result"
    }
   ],
   "source": [
    "obj1.show() # here it overrite the show method of parent1 and show the output of child class"
   ]
  },
  {
   "cell_type": "code",
   "execution_count": 40,
   "id": "a39641cc-fb07-4b25-9784-e940702058fa",
   "metadata": {},
   "outputs": [
    {
     "data": {
      "text/plain": [
       "' inside parent2'"
      ]
     },
     "execution_count": 40,
     "metadata": {},
     "output_type": "execute_result"
    }
   ],
   "source": [
    "obj1.display()"
   ]
  },
  {
   "cell_type": "code",
   "execution_count": null,
   "id": "d53f20f9-959b-4579-bf0b-5ff5dfa859cf",
   "metadata": {},
   "outputs": [],
   "source": []
  }
 ],
 "metadata": {
  "kernelspec": {
   "display_name": "Python 3 (ipykernel)",
   "language": "python",
   "name": "python3"
  },
  "language_info": {
   "codemirror_mode": {
    "name": "ipython",
    "version": 3
   },
   "file_extension": ".py",
   "mimetype": "text/x-python",
   "name": "python",
   "nbconvert_exporter": "python",
   "pygments_lexer": "ipython3",
   "version": "3.10.8"
  }
 },
 "nbformat": 4,
 "nbformat_minor": 5
}
