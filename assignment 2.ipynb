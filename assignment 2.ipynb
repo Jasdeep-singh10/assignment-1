{
 "cells": [
  {
   "cell_type": "markdown",
   "id": "04d66aa8-7eff-4ba6-a47c-9435f8bc453f",
   "metadata": {},
   "source": [
    " assignment 2"
   ]
  },
  {
   "cell_type": "markdown",
   "id": "aec011df-08ba-4bf3-a0a2-4fd4724cd46d",
   "metadata": {},
   "source": [
    "1. how do you comment in python? what are different types of comments in pythons? \n",
    "* solution -\n",
    "  * in python there are 2 different types of comments. \n",
    "    *1. single line comment.  \n",
    "    *2. multiple line commn=ent. \n",
    "    \n",
    "    * in single line comment we use \"#\" to initialize a comment and write a single line comment \n",
    "    \n",
    "    * in multiple line comment we use triple quotes '\"\"\"' to initialize a miltiline comment and enclose with the same. \n",
    "    \n",
    "    * Example - "
   ]
  },
  {
   "cell_type": "code",
   "execution_count": 3,
   "id": "d2c81edb-959b-40e8-a730-24ddbe2bd8ce",
   "metadata": {},
   "outputs": [
    {
     "data": {
      "text/plain": [
       "'this is the example of muitiline comment, hedewdenhuiwehfenfwuiehfwhhfdnfuiewhyegrygfwnfdiowehcwhefebfbwnfnuehufhu8ewhfuiehinfewnfuenwuifhuewnfjewnf'"
      ]
     },
     "execution_count": 3,
     "metadata": {},
     "output_type": "execute_result"
    }
   ],
   "source": [
    "# this is the example of single line comment\n",
    "\"\"\"this is the example of muitiline comment, hedewdenhuiwehfenfwuiehfwhhfdnfuiewhyegrygfwnfdiowehcwhefebfbwnfnuehufhu8ewhfuiehinfewnfuenwuifhuewnfjewnf\"\"\""
   ]
  },
  {
   "cell_type": "markdown",
   "id": "1a2ac169-3e20-43bf-bc34-1e1f5851dbf5",
   "metadata": {},
   "source": [
    "question 2\n",
    "what are variables in python? how do you assign and declare a value to variable? \n",
    " * solution - \n",
    "  variable act as an adress where the data is stored in mempry. \n",
    "  \n",
    "    * to assign and declare a value to variable - "
   ]
  },
  {
   "cell_type": "code",
   "execution_count": 6,
   "id": "ac3d79d2-24a4-482f-8faa-017f7dcc26da",
   "metadata": {},
   "outputs": [
    {
     "name": "stdin",
     "output_type": "stream",
     "text": [
      " 45\n"
     ]
    }
   ],
   "source": [
    "var1 = input()\n",
    "var2 = \"jasdeep\""
   ]
  },
  {
   "cell_type": "code",
   "execution_count": 9,
   "id": "05c85502-c18c-4a31-904b-5baa6b6aa48f",
   "metadata": {},
   "outputs": [
    {
     "data": {
      "text/plain": [
       "'45'"
      ]
     },
     "execution_count": 9,
     "metadata": {},
     "output_type": "execute_result"
    }
   ],
   "source": [
    "var1"
   ]
  },
  {
   "cell_type": "code",
   "execution_count": 10,
   "id": "6f09333b-082c-49c4-9f3f-0008c7eb3e2e",
   "metadata": {},
   "outputs": [
    {
     "data": {
      "text/plain": [
       "'jasdeep'"
      ]
     },
     "execution_count": 10,
     "metadata": {},
     "output_type": "execute_result"
    }
   ],
   "source": [
    "var2"
   ]
  },
  {
   "cell_type": "markdown",
   "id": "f3dc48d2-e45e-4d14-a47c-b4738c0d5da8",
   "metadata": {},
   "source": [
    "Question 3\n",
    "how do you convert one data type into another in python? \n",
    " * solution - "
   ]
  },
  {
   "cell_type": "code",
   "execution_count": 17,
   "id": "54498b40-232e-4b69-916c-7371ebed1cd3",
   "metadata": {},
   "outputs": [
    {
     "name": "stdin",
     "output_type": "stream",
     "text": [
      " 69\n"
     ]
    }
   ],
   "source": [
    "var3 = int(input())"
   ]
  },
  {
   "cell_type": "code",
   "execution_count": 18,
   "id": "405c02c7-524d-45ce-9ab0-ceab91b97dea",
   "metadata": {},
   "outputs": [
    {
     "data": {
      "text/plain": [
       "int"
      ]
     },
     "execution_count": 18,
     "metadata": {},
     "output_type": "execute_result"
    }
   ],
   "source": [
    "type(var3)"
   ]
  },
  {
   "cell_type": "markdown",
   "id": "690cd03a-cc97-4493-a882-f9e7fe80dd53",
   "metadata": {},
   "source": [
    "here we convert the string datatype into integer data type in 'var3' as by default input function store data in string datatype but we convert it into integer datatype"
   ]
  },
  {
   "cell_type": "markdown",
   "id": "4a6bf992-f55e-4c8c-9cb5-e4889eb6a0e4",
   "metadata": {},
   "source": [
    "question 4 \n",
    " * how do you write and execute python script from the command line? \n",
    "  * solution - we will open a command line and type the word python followed the path of my script file."
   ]
  },
  {
   "cell_type": "markdown",
   "id": "ed1ef783-a3d1-40ce-95f6-e313e3c196b4",
   "metadata": {},
   "source": [
    "question 5 \n",
    " * solution - \n"
   ]
  },
  {
   "cell_type": "code",
   "execution_count": 19,
   "id": "bc60127c-9711-48cc-b01b-a007abc21826",
   "metadata": {},
   "outputs": [],
   "source": [
    "my_list = [1,2,3,4,5]"
   ]
  },
  {
   "cell_type": "code",
   "execution_count": 20,
   "id": "7376fae3-11d0-4931-bb58-21252f5ab78c",
   "metadata": {},
   "outputs": [
    {
     "data": {
      "text/plain": [
       "[2, 3]"
      ]
     },
     "execution_count": 20,
     "metadata": {},
     "output_type": "execute_result"
    }
   ],
   "source": [
    "#slicing to optain [2,3]\n",
    "my_list[1:3]"
   ]
  },
  {
   "cell_type": "markdown",
   "id": "693e3802-bf9f-4b73-a986-961f065dedd4",
   "metadata": {},
   "source": [
    "question 6 \n",
    " * solution - \n",
    "               comples number in mathematics is the combination of real number and imaginary number with a arithematic operation in between. \n",
    "    * example - "
   ]
  },
  {
   "cell_type": "code",
   "execution_count": 21,
   "id": "62778e86-1dfc-4abb-bf65-a78cfa3264d0",
   "metadata": {},
   "outputs": [],
   "source": [
    "complex = 5+6j"
   ]
  },
  {
   "cell_type": "code",
   "execution_count": 22,
   "id": "ee8f7f41-419d-4281-8759-e9b1deddb8bc",
   "metadata": {},
   "outputs": [
    {
     "data": {
      "text/plain": [
       "complex"
      ]
     },
     "execution_count": 22,
     "metadata": {},
     "output_type": "execute_result"
    }
   ],
   "source": [
    "type(complex)"
   ]
  },
  {
   "cell_type": "markdown",
   "id": "ab15f8e0-4f06-4e6e-93a4-8c90ba8fc72e",
   "metadata": {},
   "source": [
    "question 7 \n",
    " * solution - we can declare a variable in the starting and assign the value in two ways. \n",
    "  *1. by assiging value itself there \n",
    "  *2. we can take input through user \n",
    "  \n",
    "  *example - "
   ]
  },
  {
   "cell_type": "code",
   "execution_count": 24,
   "id": "026090e5-dedb-4de0-8016-4ed6bca86f4a",
   "metadata": {},
   "outputs": [
    {
     "name": "stdin",
     "output_type": "stream",
     "text": [
      "enter your age 25\n"
     ]
    }
   ],
   "source": [
    "age1  = 25\n",
    "age2 = input(\"enter your age\")"
   ]
  },
  {
   "cell_type": "code",
   "execution_count": 25,
   "id": "4334222b-7ff6-4a0b-b856-71d4fa5f6d11",
   "metadata": {},
   "outputs": [
    {
     "data": {
      "text/plain": [
       "25"
      ]
     },
     "execution_count": 25,
     "metadata": {},
     "output_type": "execute_result"
    }
   ],
   "source": [
    "age1"
   ]
  },
  {
   "cell_type": "code",
   "execution_count": 26,
   "id": "ca37b83c-7654-48ce-8570-eda1d937f69d",
   "metadata": {},
   "outputs": [
    {
     "data": {
      "text/plain": [
       "'25'"
      ]
     },
     "execution_count": 26,
     "metadata": {},
     "output_type": "execute_result"
    }
   ],
   "source": [
    "age2"
   ]
  },
  {
   "cell_type": "markdown",
   "id": "c1aa59ec-556b-4ecf-b3d3-f906d35b57bf",
   "metadata": {},
   "source": [
    "question 8 \n",
    " * solution - the data \"9.99\" given in the question is belong to float data type. \n",
    " * proof - "
   ]
  },
  {
   "cell_type": "code",
   "execution_count": 27,
   "id": "963051fb-ba32-4912-baa0-d8a43efee92a",
   "metadata": {},
   "outputs": [],
   "source": [
    "price = 9.99"
   ]
  },
  {
   "cell_type": "code",
   "execution_count": 28,
   "id": "06abcb33-2a4c-4410-a73b-21e96c741c82",
   "metadata": {},
   "outputs": [
    {
     "data": {
      "text/plain": [
       "float"
      ]
     },
     "execution_count": 28,
     "metadata": {},
     "output_type": "execute_result"
    }
   ],
   "source": [
    "type(price)"
   ]
  },
  {
   "cell_type": "markdown",
   "id": "ddf11810-69eb-4aa1-a28d-83a7bc894baa",
   "metadata": {},
   "source": [
    "question 9 \n",
    " * solution - "
   ]
  },
  {
   "cell_type": "code",
   "execution_count": 31,
   "id": "6275f141-a7fb-4441-a381-2780f4241ac7",
   "metadata": {},
   "outputs": [
    {
     "name": "stdout",
     "output_type": "stream",
     "text": [
      "Jasdeep singh kalra\n"
     ]
    }
   ],
   "source": [
    "name = 'Jasdeep singh kalra' \n",
    "print(name)"
   ]
  },
  {
   "cell_type": "code",
   "execution_count": 32,
   "id": "57a32e58-9311-4dc2-82d3-fd9f8e20dcc2",
   "metadata": {},
   "outputs": [
    {
     "data": {
      "text/plain": [
       "str"
      ]
     },
     "execution_count": 32,
     "metadata": {},
     "output_type": "execute_result"
    }
   ],
   "source": [
    "type(name)"
   ]
  },
  {
   "cell_type": "markdown",
   "id": "90ab5e6f-3689-4bed-b12c-0b4fe1195d29",
   "metadata": {},
   "source": [
    "question 10 \n",
    " *solution - "
   ]
  },
  {
   "cell_type": "code",
   "execution_count": 33,
   "id": "d96b86f1-6e6a-41a6-b31c-3d06eba198e4",
   "metadata": {},
   "outputs": [],
   "source": [
    "string = \"HELLO, WORLD!\" "
   ]
  },
  {
   "cell_type": "code",
   "execution_count": 36,
   "id": "bffe1384-fdc8-4ae7-a005-d3c25bf18231",
   "metadata": {},
   "outputs": [
    {
     "data": {
      "text/plain": [
       "'WORLD'"
      ]
     },
     "execution_count": 36,
     "metadata": {},
     "output_type": "execute_result"
    }
   ],
   "source": [
    "string[7:12]"
   ]
  },
  {
   "cell_type": "code",
   "execution_count": null,
   "id": "8e4fb7fa-6ac1-4f4c-86ac-db965dc78b0d",
   "metadata": {},
   "outputs": [],
   "source": []
  }
 ],
 "metadata": {
  "kernelspec": {
   "display_name": "Python 3 (ipykernel)",
   "language": "python",
   "name": "python3"
  },
  "language_info": {
   "codemirror_mode": {
    "name": "ipython",
    "version": 3
   },
   "file_extension": ".py",
   "mimetype": "text/x-python",
   "name": "python",
   "nbconvert_exporter": "python",
   "pygments_lexer": "ipython3",
   "version": "3.10.8"
  }
 },
 "nbformat": 4,
 "nbformat_minor": 5
}
