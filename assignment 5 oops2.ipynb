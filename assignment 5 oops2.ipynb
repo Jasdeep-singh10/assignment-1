{
 "cells": [
  {
   "cell_type": "markdown",
   "metadata": {},
   "source": [
    "question 1 \n",
    "\n",
    "answer - \n",
    "        \n",
    "         class is a part of oops in which we create different section for each work or type called, Class and under class we created different functions to perform the specific task. \n",
    "\n",
    "         we can also called object as variable. we create object to access the different functions created in particular class, assigned to object.\n",
    "         example -  "
   ]
  },
  {
   "cell_type": "code",
   "execution_count": 1,
   "metadata": {},
   "outputs": [],
   "source": [
    "class test1: \n",
    "\n",
    "    def pwskills(self) : \n",
    "        print('this is example of class')"
   ]
  },
  {
   "cell_type": "code",
   "execution_count": 2,
   "metadata": {},
   "outputs": [],
   "source": [
    "pw1 = test1()"
   ]
  },
  {
   "cell_type": "code",
   "execution_count": 6,
   "metadata": {},
   "outputs": [
    {
     "name": "stdout",
     "output_type": "stream",
     "text": [
      "this is example of class\n"
     ]
    }
   ],
   "source": [
    "pw1.pwskills()"
   ]
  },
  {
   "cell_type": "markdown",
   "metadata": {},
   "source": [
    "question 2 \n",
    "\n",
    "answer - \n",
    "1. Abstraction\n",
    "2. encapsulation \n",
    "3. inheritance \n",
    "4. polymorphism"
   ]
  },
  {
   "cell_type": "markdown",
   "metadata": {},
   "source": [
    "question 3 \n",
    "\n",
    "answer - \n",
    "        \"__init__\" function is an input taking function. we use this function under class to take the input or ask the value to the user. it takes the value according to the parameter given under parenthesis. \n",
    "\n",
    "        example - "
   ]
  },
  {
   "cell_type": "code",
   "execution_count": 7,
   "metadata": {},
   "outputs": [],
   "source": [
    "class pwskills : \n",
    "\n",
    "    def __init__(self, name , course) : \n",
    "        self.name = name \n",
    "        self.course = course\n",
    "\n",
    "    def get_init(self) : \n",
    "        return self.name , self.course"
   ]
  },
  {
   "cell_type": "code",
   "execution_count": 8,
   "metadata": {},
   "outputs": [],
   "source": [
    "pw2 = pwskills('jasdeep' , 'data science')"
   ]
  },
  {
   "cell_type": "code",
   "execution_count": 9,
   "metadata": {},
   "outputs": [
    {
     "data": {
      "text/plain": [
       "('jasdeep', 'data science')"
      ]
     },
     "execution_count": 9,
     "metadata": {},
     "output_type": "execute_result"
    }
   ],
   "source": [
    "pw2.get_init()"
   ]
  },
  {
   "cell_type": "markdown",
   "metadata": {},
   "source": [
    "question 4 \n",
    "\n",
    "answer - \n",
    "        self act as a pointer or a reserved keyword, used to bind the function with class. it is not a by default reserved keyword, we can use any word uniformly in place of self to bind the function with class. "
   ]
  },
  {
   "cell_type": "markdown",
   "metadata": {},
   "source": [
    "question 5 \n",
    "\n",
    "answer - \n",
    "          Inheritance is an one of the pillars of oops. it means that a class can inherit the properties of other class or called as parent class. it  has generally two types of inheritance. \n",
    "          1. multilabel inheritane \n",
    "          2. multiple inheritance \n",
    "\n",
    "example - "
   ]
  },
  {
   "cell_type": "code",
   "execution_count": 10,
   "metadata": {},
   "outputs": [],
   "source": [
    "# multilabel inheritance\n",
    "\n",
    "class pwskills1 : \n",
    "\n",
    "    def multi(self) : \n",
    "        print('this is an example 1')"
   ]
  },
  {
   "cell_type": "code",
   "execution_count": 11,
   "metadata": {},
   "outputs": [],
   "source": [
    "class pwskills3(pwskills1) : \n",
    "\n",
    "    def label(self) : \n",
    "        print('this is an 2nd example')"
   ]
  },
  {
   "cell_type": "code",
   "execution_count": 12,
   "metadata": {},
   "outputs": [],
   "source": [
    "class pwskills4(pwskills3) : \n",
    "\n",
    "    def multilabel(self) : \n",
    "        print('this is an final example')"
   ]
  },
  {
   "cell_type": "code",
   "execution_count": 13,
   "metadata": {},
   "outputs": [],
   "source": [
    "multi_exam = pwskills4()"
   ]
  },
  {
   "cell_type": "code",
   "execution_count": 15,
   "metadata": {},
   "outputs": [
    {
     "name": "stdout",
     "output_type": "stream",
     "text": [
      "this is an example 1\n"
     ]
    }
   ],
   "source": [
    "multi_exam.multi()"
   ]
  },
  {
   "cell_type": "code",
   "execution_count": 16,
   "metadata": {},
   "outputs": [
    {
     "name": "stdout",
     "output_type": "stream",
     "text": [
      "this is an 2nd example\n"
     ]
    }
   ],
   "source": [
    "multi_exam.label()"
   ]
  },
  {
   "cell_type": "code",
   "execution_count": 17,
   "metadata": {},
   "outputs": [
    {
     "name": "stdout",
     "output_type": "stream",
     "text": [
      "this is an final example\n"
     ]
    }
   ],
   "source": [
    "multi_exam.multilabel()"
   ]
  },
  {
   "cell_type": "markdown",
   "metadata": {},
   "source": [
    "example of multiple inheritance"
   ]
  },
  {
   "cell_type": "code",
   "execution_count": 18,
   "metadata": {},
   "outputs": [],
   "source": [
    "class abc1 :\n",
    "\n",
    "    def exam1(self) : \n",
    "        print('example of multiple inheritance')"
   ]
  },
  {
   "cell_type": "code",
   "execution_count": 19,
   "metadata": {},
   "outputs": [],
   "source": [
    "class abc2 : \n",
    "\n",
    "    def exam2(self) : \n",
    "        print('2nd example of multiple inheritance')"
   ]
  },
  {
   "cell_type": "code",
   "execution_count": 22,
   "metadata": {},
   "outputs": [],
   "source": [
    "class abc3(abc1, abc2) : \n",
    "\n",
    "    def final_exmaple(self) : \n",
    "        print('last example of multiple inheritance')"
   ]
  },
  {
   "cell_type": "code",
   "execution_count": 23,
   "metadata": {},
   "outputs": [],
   "source": [
    "final_exam = abc3()"
   ]
  },
  {
   "cell_type": "code",
   "execution_count": 24,
   "metadata": {},
   "outputs": [
    {
     "name": "stdout",
     "output_type": "stream",
     "text": [
      "example of multiple inheritance\n"
     ]
    }
   ],
   "source": [
    "final_exam.exam1()"
   ]
  },
  {
   "cell_type": "code",
   "execution_count": 25,
   "metadata": {},
   "outputs": [
    {
     "name": "stdout",
     "output_type": "stream",
     "text": [
      "2nd example of multiple inheritance\n"
     ]
    }
   ],
   "source": [
    "final_exam.exam2()"
   ]
  },
  {
   "cell_type": "code",
   "execution_count": 26,
   "metadata": {},
   "outputs": [
    {
     "name": "stdout",
     "output_type": "stream",
     "text": [
      "last example of multiple inheritance\n"
     ]
    }
   ],
   "source": [
    "final_exam.final_exmaple()"
   ]
  },
  {
   "cell_type": "code",
   "execution_count": null,
   "metadata": {},
   "outputs": [],
   "source": []
  }
 ],
 "metadata": {
  "kernelspec": {
   "display_name": "Python 3",
   "language": "python",
   "name": "python3"
  },
  "language_info": {
   "codemirror_mode": {
    "name": "ipython",
    "version": 3
   },
   "file_extension": ".py",
   "mimetype": "text/x-python",
   "name": "python",
   "nbconvert_exporter": "python",
   "pygments_lexer": "ipython3",
   "version": "3.11.9"
  }
 },
 "nbformat": 4,
 "nbformat_minor": 2
}
