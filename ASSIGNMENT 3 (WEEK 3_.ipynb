{
 "cells": [
  {
   "cell_type": "markdown",
   "id": "64d70407-0389-438c-a114-2c1d636a2587",
   "metadata": {},
   "source": [
    "### question 1 \n",
    " # solution - \n",
    "     * 'def' keyword is used to create a function. \n",
    "      * example - "
   ]
  },
  {
   "cell_type": "code",
   "execution_count": 34,
   "id": "268ebbde-3c78-4b3b-9790-58561a9493fc",
   "metadata": {},
   "outputs": [],
   "source": [
    "l = [1,2,3,4,5,6,7,8,9,10,11,12,13,14,15,16,17,18,19,20,21,22,23,24,25]"
   ]
  },
  {
   "cell_type": "code",
   "execution_count": 59,
   "id": "a1dc72fa-9750-4793-8fa5-0b34c0a449a6",
   "metadata": {},
   "outputs": [],
   "source": [
    "odd_numbers = []\n",
    "l = list(range(1,25))\n",
    "def finding_oddno(n ) :\n",
    "    for i in n : \n",
    "        if i % 2 == 1:\n",
    "            odd_numbers.append(i)\n",
    "    return odd_numbers\n",
    "        "
   ]
  },
  {
   "cell_type": "code",
   "execution_count": 60,
   "id": "0dd2f3ef-ca64-482b-bb9f-7e3a77cf3284",
   "metadata": {},
   "outputs": [
    {
     "data": {
      "text/plain": [
       "[1, 3, 5, 7, 9, 11, 13, 15, 17, 19, 21, 23]"
      ]
     },
     "execution_count": 60,
     "metadata": {},
     "output_type": "execute_result"
    }
   ],
   "source": [
    "finding_oddno(l)"
   ]
  },
  {
   "cell_type": "markdown",
   "id": "c60953e6-68bf-44e2-8318-427b0b6bb1de",
   "metadata": {},
   "source": [
    "### Question 2 \n",
    " # solution - \n",
    "   * '*args' - is used in the function to create the dynamic parameter of the function. we can unlimited argument after using this. it stores and return the data in the form of tuples. \n",
    "   * '**kwargs' - it is used to create dynamic function for dictionary. and it stores data in the form of dictionary\n",
    "   \n",
    "   * example - "
   ]
  },
  {
   "cell_type": "code",
   "execution_count": 70,
   "id": "2447b691-2955-4c79-b352-27b41a434e6f",
   "metadata": {},
   "outputs": [],
   "source": [
    "def single_astrisk(*args) : \n",
    "    return args"
   ]
  },
  {
   "cell_type": "code",
   "execution_count": 71,
   "id": "646274f0-da1b-466f-a8e0-3773e27393a6",
   "metadata": {},
   "outputs": [
    {
     "data": {
      "text/plain": [
       "(1, 2, 3, 4, 5)"
      ]
     },
     "execution_count": 71,
     "metadata": {},
     "output_type": "execute_result"
    }
   ],
   "source": [
    "single_astrisk(1,2,3,4,5)"
   ]
  },
  {
   "cell_type": "code",
   "execution_count": 73,
   "id": "9c80f7fc-14ca-490c-a3ad-732a2a2d69fc",
   "metadata": {},
   "outputs": [],
   "source": [
    "def double_astrisk(**kwargs) : \n",
    "    return kwargs"
   ]
  },
  {
   "cell_type": "code",
   "execution_count": 74,
   "id": "4b2fbd6d-aec7-4bc7-91ba-1e0004ca27f1",
   "metadata": {},
   "outputs": [
    {
     "data": {
      "text/plain": [
       "{'a': [1, 2, 3, 4, 5], 'b': {1, 56.3, 'jasd'}}"
      ]
     },
     "execution_count": 74,
     "metadata": {},
     "output_type": "execute_result"
    }
   ],
   "source": [
    "double_astrisk(a = [1,2,3,4,5] , b = {1,'jasd' , 56.3})"
   ]
  },
  {
   "cell_type": "markdown",
   "id": "cb8a2e23-6546-4f27-a711-7f0d6e8e4616",
   "metadata": {},
   "source": [
    "### question 3 \n",
    "  # solution - \n",
    "    * iterator - it is a kind of datatype in which we can extract its data one by one or next & next. \n",
    "    * iterable - iterable are those which we can we convert it into iterator. \n",
    "    \n",
    "    * code - "
   ]
  },
  {
   "cell_type": "code",
   "execution_count": 75,
   "id": "a0c747e4-2618-4a70-bce6-65364cc83978",
   "metadata": {},
   "outputs": [],
   "source": [
    "given_list = [2,4,6,8,10,12,14,16,18,20]"
   ]
  },
  {
   "cell_type": "code",
   "execution_count": 80,
   "id": "acd4ad2a-85cd-4547-92da-5065ce9c3fa7",
   "metadata": {},
   "outputs": [
    {
     "data": {
      "text/plain": [
       "[2, 4, 6, 8, 10]"
      ]
     },
     "execution_count": 80,
     "metadata": {},
     "output_type": "execute_result"
    }
   ],
   "source": [
    "given_list[0:5]    "
   ]
  },
  {
   "cell_type": "markdown",
   "id": "650e6572-1b27-444f-bf62-46edb60d928a",
   "metadata": {},
   "source": [
    "### question 4 \n",
    "#  solution - \n",
    "   * generator function - it is an function which gives data imidiately after generation. \n",
    "   * yield - yield is used to throw the data imediately after generation or updation. \n",
    "   * code - "
   ]
  },
  {
   "cell_type": "code",
   "execution_count": 91,
   "id": "761a6d99-f02d-41f9-a9a6-3570ba6b0309",
   "metadata": {},
   "outputs": [],
   "source": [
    "\n",
    "def fibb(n):\n",
    "    a,b = 0,1 \n",
    "    for i in range(n) : \n",
    "        yield a\n",
    "        a,b = b , a+b\n",
    "        \n",
    "       "
   ]
  },
  {
   "cell_type": "code",
   "execution_count": 92,
   "id": "f04e3d6a-c2c0-4405-8c49-323411b707a8",
   "metadata": {},
   "outputs": [
    {
     "name": "stdout",
     "output_type": "stream",
     "text": [
      "0\n",
      "1\n",
      "1\n",
      "2\n",
      "3\n",
      "5\n",
      "8\n",
      "13\n",
      "21\n",
      "34\n"
     ]
    }
   ],
   "source": [
    "for i in fibb(10) : \n",
    "    print(i)"
   ]
  },
  {
   "cell_type": "markdown",
   "id": "2ac205f0-daf0-4341-b407-948bb2763d41",
   "metadata": {},
   "source": [
    "### question 5\n",
    " # solution - \n",
    "  * "
   ]
  },
  {
   "cell_type": "code",
   "execution_count": 1,
   "id": "d05e48f0-db24-4e3c-875f-5d37ccdc9b80",
   "metadata": {},
   "outputs": [],
   "source": [
    "def prime_num_generator(): \n",
    "    num = 2 \n",
    "    while True: \n",
    "        if is_prime(num):\n",
    "            yield num \n",
    "        num = num+1\n",
    "            \n",
    "            \n",
    "            \n",
    "def is_prime(n): \n",
    "    if n<2: \n",
    "        return False\n",
    "    for i in range(2, int(n**0.5)+1):\n",
    "        if n% i == 0:\n",
    "            return False\n",
    "        return True\n",
    "    "
   ]
  },
  {
   "cell_type": "code",
   "execution_count": 2,
   "id": "03394389-9def-4ee2-b54b-b891c2a63919",
   "metadata": {},
   "outputs": [
    {
     "data": {
      "text/plain": [
       "True"
      ]
     },
     "execution_count": 2,
     "metadata": {},
     "output_type": "execute_result"
    }
   ],
   "source": [
    "is_prime(5)"
   ]
  },
  {
   "cell_type": "code",
   "execution_count": 4,
   "id": "0fb8ddef-8129-4b87-800b-489f215dca48",
   "metadata": {},
   "outputs": [
    {
     "data": {
      "text/plain": [
       "[5, 7, 9, 11, 13, 15, 17, 19, 21, 23]"
      ]
     },
     "execution_count": 4,
     "metadata": {},
     "output_type": "execute_result"
    }
   ],
   "source": [
    "prime_number = prime_num_generator()\n",
    "\n",
    "[next(prime_number) for _ in range(10)]"
   ]
  },
  {
   "cell_type": "code",
   "execution_count": 5,
   "id": "56323dad-3317-4e2b-98f5-b1d44246f094",
   "metadata": {},
   "outputs": [
    {
     "data": {
      "text/plain": [
       "25"
      ]
     },
     "execution_count": 5,
     "metadata": {},
     "output_type": "execute_result"
    }
   ],
   "source": [
    "next(prime_number)"
   ]
  },
  {
   "cell_type": "code",
   "execution_count": 6,
   "id": "dc30d976-5344-484c-a7d0-95dc34843de7",
   "metadata": {},
   "outputs": [
    {
     "data": {
      "text/plain": [
       "27"
      ]
     },
     "execution_count": 6,
     "metadata": {},
     "output_type": "execute_result"
    }
   ],
   "source": [
    "next(prime_number)"
   ]
  },
  {
   "cell_type": "code",
   "execution_count": 7,
   "id": "a9f3d48e-09e7-4ffb-bec4-29a559e8fc3f",
   "metadata": {},
   "outputs": [
    {
     "data": {
      "text/plain": [
       "29"
      ]
     },
     "execution_count": 7,
     "metadata": {},
     "output_type": "execute_result"
    }
   ],
   "source": [
    "next(prime_number)"
   ]
  },
  {
   "cell_type": "code",
   "execution_count": 8,
   "id": "3c197902-0aac-47ea-ba30-f964f3460295",
   "metadata": {},
   "outputs": [
    {
     "data": {
      "text/plain": [
       "31"
      ]
     },
     "execution_count": 8,
     "metadata": {},
     "output_type": "execute_result"
    }
   ],
   "source": [
    "next(prime_number)"
   ]
  },
  {
   "cell_type": "code",
   "execution_count": 9,
   "id": "c97428bd-246b-4e84-8f74-ced004170b37",
   "metadata": {},
   "outputs": [
    {
     "data": {
      "text/plain": [
       "33"
      ]
     },
     "execution_count": 9,
     "metadata": {},
     "output_type": "execute_result"
    }
   ],
   "source": [
    "next(prime_number)"
   ]
  },
  {
   "cell_type": "code",
   "execution_count": 10,
   "id": "6f43adf5-80e7-49de-b896-5833146d69c6",
   "metadata": {},
   "outputs": [
    {
     "data": {
      "text/plain": [
       "35"
      ]
     },
     "execution_count": 10,
     "metadata": {},
     "output_type": "execute_result"
    }
   ],
   "source": [
    "next(prime_number)"
   ]
  },
  {
   "cell_type": "code",
   "execution_count": 11,
   "id": "ab243d05-aaa0-4125-ba16-dcb59dbfcb11",
   "metadata": {},
   "outputs": [
    {
     "data": {
      "text/plain": [
       "37"
      ]
     },
     "execution_count": 11,
     "metadata": {},
     "output_type": "execute_result"
    }
   ],
   "source": [
    "next(prime_number)"
   ]
  },
  {
   "cell_type": "code",
   "execution_count": 12,
   "id": "807ead10-d173-4231-9986-910c0df2a773",
   "metadata": {},
   "outputs": [
    {
     "data": {
      "text/plain": [
       "39"
      ]
     },
     "execution_count": 12,
     "metadata": {},
     "output_type": "execute_result"
    }
   ],
   "source": [
    "next(prime_number)"
   ]
  },
  {
   "cell_type": "code",
   "execution_count": 13,
   "id": "5f039d14-99fb-4dde-8af8-9b3e1383a78a",
   "metadata": {},
   "outputs": [
    {
     "data": {
      "text/plain": [
       "41"
      ]
     },
     "execution_count": 13,
     "metadata": {},
     "output_type": "execute_result"
    }
   ],
   "source": [
    "next(prime_number)"
   ]
  },
  {
   "cell_type": "code",
   "execution_count": 14,
   "id": "7f58a364-cfa2-47ff-8569-45fbad2dc3d6",
   "metadata": {},
   "outputs": [
    {
     "data": {
      "text/plain": [
       "43"
      ]
     },
     "execution_count": 14,
     "metadata": {},
     "output_type": "execute_result"
    }
   ],
   "source": [
    "next(prime_number)\n"
   ]
  },
  {
   "cell_type": "code",
   "execution_count": 15,
   "id": "ca8be269-757b-4d38-b295-d6df64811310",
   "metadata": {},
   "outputs": [
    {
     "data": {
      "text/plain": [
       "45"
      ]
     },
     "execution_count": 15,
     "metadata": {},
     "output_type": "execute_result"
    }
   ],
   "source": [
    "next(prime_number)"
   ]
  },
  {
   "cell_type": "code",
   "execution_count": 16,
   "id": "5394a9c1-8240-409b-b02f-104cb85117a1",
   "metadata": {},
   "outputs": [
    {
     "data": {
      "text/plain": [
       "47"
      ]
     },
     "execution_count": 16,
     "metadata": {},
     "output_type": "execute_result"
    }
   ],
   "source": [
    "next(prime_number)"
   ]
  },
  {
   "cell_type": "markdown",
   "id": "f06bd83d-7884-4f18-a21b-65868084bf59",
   "metadata": {},
   "source": [
    "### question 6 \n",
    "## solution - \n",
    " "
   ]
  },
  {
   "cell_type": "code",
   "execution_count": 17,
   "id": "ac94b3b4-ca2a-401e-b5cc-fcbba93d5133",
   "metadata": {},
   "outputs": [],
   "source": [
    "def fibonaccii(n) :\n",
    "    a , b = 0,1\n",
    "    count = 0 \n",
    "    while count < n :\n",
    "        print(a)\n",
    "        a , b = b , a+b \n",
    "        count +=1 "
   ]
  },
  {
   "cell_type": "code",
   "execution_count": 18,
   "id": "3231dfee-6791-48cc-bb88-856f13b45ab4",
   "metadata": {},
   "outputs": [
    {
     "name": "stdout",
     "output_type": "stream",
     "text": [
      "0\n",
      "1\n",
      "1\n",
      "2\n",
      "3\n",
      "5\n",
      "8\n",
      "13\n",
      "21\n",
      "34\n"
     ]
    }
   ],
   "source": [
    "fibonaccii(10)"
   ]
  },
  {
   "cell_type": "markdown",
   "id": "c4fa91fa-113b-4262-a82e-0e9a5753963c",
   "metadata": {},
   "source": [
    "### question 7 \n",
    "## solutionn - "
   ]
  },
  {
   "cell_type": "code",
   "execution_count": 28,
   "id": "85558f42-b2bf-4573-b1b3-8f687db94279",
   "metadata": {},
   "outputs": [],
   "source": [
    "listt = []\n",
    "\n",
    "for i in \"pwskills\":\n",
    "    listt.append(i)\n",
    "\n"
   ]
  },
  {
   "cell_type": "code",
   "execution_count": 29,
   "id": "2429a6b3-e6d1-4639-9ee7-2b2e6958ffc7",
   "metadata": {},
   "outputs": [
    {
     "data": {
      "text/plain": [
       "['p', 'w', 's', 'k', 'i', 'l', 'l', 's']"
      ]
     },
     "execution_count": 29,
     "metadata": {},
     "output_type": "execute_result"
    }
   ],
   "source": [
    "listt"
   ]
  },
  {
   "cell_type": "markdown",
   "id": "9eb884eb-63b8-42bb-8ff3-960d52987976",
   "metadata": {},
   "source": [
    "### question 8 \n",
    "## solution - "
   ]
  },
  {
   "cell_type": "code",
   "execution_count": 2,
   "id": "6702a7ef-c417-438d-b67f-3b820b48eb1d",
   "metadata": {},
   "outputs": [
    {
     "name": "stdin",
     "output_type": "stream",
     "text": [
      "Enter a number:  12321\n"
     ]
    },
    {
     "name": "stdout",
     "output_type": "stream",
     "text": [
      "Number is palindrome\n"
     ]
    }
   ],
   "source": [
    "num = int(input(\"Enter a number: \")) \n",
    "\n",
    "temp = num \n",
    "rev = 0 \n",
    "\n",
    "while num>0: \n",
    "    remain = num % 10 \n",
    "    rev = (rev * 10) + remain \n",
    "    num = num // 10 \n",
    "\n",
    "if temp == rev: \n",
    "    print(\"Number is palindrome\") \n",
    "else: \n",
    "    print(\"Number is not palindrome\") "
   ]
  },
  {
   "cell_type": "markdown",
   "id": "02414c0e-02ed-4e66-8d00-176c3e8e3f92",
   "metadata": {},
   "source": [
    "## QUESTION 9 \n",
    "## SOLUTION - "
   ]
  },
  {
   "cell_type": "code",
   "execution_count": 3,
   "id": "e0942a7a-847b-4ce4-aa83-684e2cebaea2",
   "metadata": {},
   "outputs": [],
   "source": [
    "list1 = list(range(1,101))"
   ]
  },
  {
   "cell_type": "code",
   "execution_count": 7,
   "id": "45a333e0-76a6-474d-a7f6-69befffc226f",
   "metadata": {},
   "outputs": [
    {
     "name": "stdout",
     "output_type": "stream",
     "text": [
      "[1, 3, 5, 7, 9, 11, 13, 15, 17, 19, 21, 23, 25, 27, 29, 31, 33, 35, 37, 39, 41, 43, 45, 47, 49, 51, 53, 55, 57, 59, 61, 63, 65, 67, 69, 71, 73, 75, 77, 79, 81, 83, 85, 87, 89, 91, 93, 95, 97, 99]\n"
     ]
    }
   ],
   "source": [
    "odd_list = [i for i in list1 if i%2 == 1]\n",
    "\n",
    "print(odd_list)"
   ]
  },
  {
   "cell_type": "code",
   "execution_count": null,
   "id": "a93e7b38-4235-4088-b2ac-fc66e1784c28",
   "metadata": {},
   "outputs": [],
   "source": []
  },
  {
   "cell_type": "code",
   "execution_count": null,
   "id": "25e01113-843b-4ac8-8bdd-bf0e1fa61a45",
   "metadata": {},
   "outputs": [],
   "source": []
  }
 ],
 "metadata": {
  "kernelspec": {
   "display_name": "Python 3 (ipykernel)",
   "language": "python",
   "name": "python3"
  },
  "language_info": {
   "codemirror_mode": {
    "name": "ipython",
    "version": 3
   },
   "file_extension": ".py",
   "mimetype": "text/x-python",
   "name": "python",
   "nbconvert_exporter": "python",
   "pygments_lexer": "ipython3",
   "version": "3.10.8"
  }
 },
 "nbformat": 4,
 "nbformat_minor": 5
}
