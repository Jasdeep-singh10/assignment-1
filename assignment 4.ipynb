{
 "cells": [
  {
   "cell_type": "markdown",
   "id": "a8a607b9-a25e-4c80-854b-bcb561fe2894",
   "metadata": {},
   "source": [
    "### question 1 \n",
    "## solution - "
   ]
  },
  {
   "cell_type": "code",
   "execution_count": 8,
   "id": "93d5c554-d22a-43c0-8c92-a7572d5de99c",
   "metadata": {},
   "outputs": [],
   "source": [
    "l1 = [('Sachin Tendulkar', 34357), ('Ricky Ponting', 27483), ('Jack Kallis', 25534), ('Virat Kohli', 24936)]"
   ]
  },
  {
   "cell_type": "code",
   "execution_count": 9,
   "id": "4f6c43f3-4c53-4892-8765-44b4a30aa6ab",
   "metadata": {},
   "outputs": [
    {
     "name": "stdout",
     "output_type": "stream",
     "text": [
      "[('Virat Kohli', 24936), ('Jack Kallis', 25534), ('Ricky Ponting', 27483), ('Sachin Tendulkar', 34357)]\n"
     ]
    }
   ],
   "source": [
    "l1.sort(key = lambda x : x[1])\n",
    "print(l1)"
   ]
  },
  {
   "cell_type": "markdown",
   "id": "b7480322-ca4a-465d-84c5-2c18b6eafc80",
   "metadata": {},
   "source": [
    "# question 2  \n",
    "## solution - "
   ]
  },
  {
   "cell_type": "markdown",
   "id": "216a45fa-14df-44c9-92ca-dead9caef0fe",
   "metadata": {},
   "source": [
    "##### by map  function "
   ]
  },
  {
   "cell_type": "code",
   "execution_count": 17,
   "id": "14658e2a-af0b-4647-9259-a701452f15cf",
   "metadata": {},
   "outputs": [],
   "source": [
    "num  = [1,2,3,4,5,6,7,8,9,10]"
   ]
  },
  {
   "cell_type": "code",
   "execution_count": 18,
   "id": "9b8acd9d-a6d4-41be-9451-c52fc3adf689",
   "metadata": {},
   "outputs": [
    {
     "data": {
      "text/plain": [
       "list"
      ]
     },
     "execution_count": 18,
     "metadata": {},
     "output_type": "execute_result"
    }
   ],
   "source": [
    "type(num)"
   ]
  },
  {
   "cell_type": "code",
   "execution_count": 19,
   "id": "97757628-fd90-4e1f-b9d2-6b5fa1d5fd4d",
   "metadata": {},
   "outputs": [],
   "source": [
    "def sq(x): \n",
    "    return x**2"
   ]
  },
  {
   "cell_type": "code",
   "execution_count": 21,
   "id": "1cda56b2-66c5-4630-bf30-3618515bd7cf",
   "metadata": {},
   "outputs": [
    {
     "data": {
      "text/plain": [
       "[1, 4, 9, 16, 25, 36, 49, 64, 81, 100]"
      ]
     },
     "execution_count": 21,
     "metadata": {},
     "output_type": "execute_result"
    }
   ],
   "source": [
    "list(map(sq , num))"
   ]
  },
  {
   "cell_type": "markdown",
   "id": "de0cdc12-c5d3-4d29-a0b0-15330ad69050",
   "metadata": {},
   "source": [
    "###### by lambda function \n"
   ]
  },
  {
   "cell_type": "code",
   "execution_count": 24,
   "id": "8cc35321-e543-4a99-b17f-c082d7bff437",
   "metadata": {},
   "outputs": [],
   "source": [
    "sq_lambda = list(map(lambda x : x*x , num))"
   ]
  },
  {
   "cell_type": "code",
   "execution_count": 25,
   "id": "1dfd2d5d-2ca3-46b2-9b5c-146e1bc7e220",
   "metadata": {},
   "outputs": [
    {
     "data": {
      "text/plain": [
       "[1, 4, 9, 16, 25, 36, 49, 64, 81, 100]"
      ]
     },
     "execution_count": 25,
     "metadata": {},
     "output_type": "execute_result"
    }
   ],
   "source": [
    "sq_lambda"
   ]
  },
  {
   "cell_type": "markdown",
   "id": "4fe47465-7a46-4302-920e-635f77e87119",
   "metadata": {},
   "source": [
    "## question 3 \n",
    "#### solution - "
   ]
  },
  {
   "cell_type": "code",
   "execution_count": 26,
   "id": "df1db4e6-8415-4540-891a-3ccc5a993693",
   "metadata": {},
   "outputs": [
    {
     "data": {
      "text/plain": [
       "[1, 2, 3, 4, 5, 6, 7, 8, 9, 10]"
      ]
     },
     "execution_count": 26,
     "metadata": {},
     "output_type": "execute_result"
    }
   ],
   "source": [
    "num "
   ]
  },
  {
   "cell_type": "code",
   "execution_count": 27,
   "id": "022a5b1b-205d-45f1-aa8c-9248b9fbb50e",
   "metadata": {},
   "outputs": [],
   "source": [
    "output = tuple(map(lambda x : str(x) , num))"
   ]
  },
  {
   "cell_type": "code",
   "execution_count": 28,
   "id": "4faccd8d-bd0c-4355-ae2d-932e367b7b2a",
   "metadata": {},
   "outputs": [
    {
     "data": {
      "text/plain": [
       "('1', '2', '3', '4', '5', '6', '7', '8', '9', '10')"
      ]
     },
     "execution_count": 28,
     "metadata": {},
     "output_type": "execute_result"
    }
   ],
   "source": [
    "output"
   ]
  },
  {
   "cell_type": "markdown",
   "id": "3e22c777-5ad1-4b61-ad58-8e0537da9cde",
   "metadata": {},
   "source": [
    "## question 4 \n",
    "#### solution - "
   ]
  },
  {
   "cell_type": "code",
   "execution_count": 36,
   "id": "0213c335-170f-4062-bb1d-4cb455736cf1",
   "metadata": {},
   "outputs": [],
   "source": [
    "listt = list(range(1,26))"
   ]
  },
  {
   "cell_type": "code",
   "execution_count": 41,
   "id": "5241e95b-0a44-45cd-a527-a38c02f0d073",
   "metadata": {},
   "outputs": [],
   "source": [
    "from functools import reduce"
   ]
  },
  {
   "cell_type": "code",
   "execution_count": 42,
   "id": "95377e34-15cb-423b-9fce-5df470ef577c",
   "metadata": {},
   "outputs": [
    {
     "data": {
      "text/plain": [
       "15511210043330985984000000"
      ]
     },
     "execution_count": 42,
     "metadata": {},
     "output_type": "execute_result"
    }
   ],
   "source": [
    "reduce(lambda x, y : x*y , listt)"
   ]
  },
  {
   "cell_type": "code",
   "execution_count": 43,
   "id": "b9f464e4-6778-4f64-b5a1-34dab24cfce9",
   "metadata": {},
   "outputs": [
    {
     "data": {
      "text/plain": [
       "325"
      ]
     },
     "execution_count": 43,
     "metadata": {},
     "output_type": "execute_result"
    }
   ],
   "source": [
    "reduce(lambda x , y : x+y , listt)"
   ]
  },
  {
   "cell_type": "markdown",
   "id": "9144bd60-0692-4525-b934-3ee696fabf1a",
   "metadata": {},
   "source": [
    "## question 5 \n",
    "####  solution - "
   ]
  },
  {
   "cell_type": "code",
   "execution_count": 60,
   "id": "07378581-7804-45bb-97f2-4733df5813d9",
   "metadata": {},
   "outputs": [],
   "source": [
    "listtt  = [2,3,6,9,27,60,90,120,55,46]"
   ]
  },
  {
   "cell_type": "code",
   "execution_count": 61,
   "id": "840d0551-2daf-4541-a286-73801d1f021d",
   "metadata": {},
   "outputs": [
    {
     "data": {
      "text/plain": [
       "list"
      ]
     },
     "execution_count": 61,
     "metadata": {},
     "output_type": "execute_result"
    }
   ],
   "source": [
    "type(listtt)"
   ]
  },
  {
   "cell_type": "code",
   "execution_count": 62,
   "id": "0025029f-e705-463e-9e6c-2a158ef5a907",
   "metadata": {},
   "outputs": [
    {
     "data": {
      "text/plain": [
       "[2, 6, 60, 90, 120, 46]"
      ]
     },
     "execution_count": 62,
     "metadata": {},
     "output_type": "execute_result"
    }
   ],
   "source": [
    "list(filter(lambda x :  x%2 == 0 , listtt))"
   ]
  },
  {
   "cell_type": "code",
   "execution_count": 63,
   "id": "cc664e7c-759f-4474-8902-5daa38c3fc1b",
   "metadata": {},
   "outputs": [
    {
     "data": {
      "text/plain": [
       "[3, 6, 9, 27, 60, 90, 120]"
      ]
     },
     "execution_count": 63,
     "metadata": {},
     "output_type": "execute_result"
    }
   ],
   "source": [
    "list(filter(lambda x : x%3 == 0 , listtt))"
   ]
  },
  {
   "cell_type": "markdown",
   "id": "cf2dcac4-5099-453e-aefb-b0bf51bd3b70",
   "metadata": {},
   "source": [
    "## question 6 \n",
    "#### solution - "
   ]
  },
  {
   "cell_type": "code",
   "execution_count": null,
   "id": "4da31c44-db0b-4112-9c82-05230c82b31e",
   "metadata": {},
   "outputs": [],
   "source": [
    "l2 = ['python', 'php', 'aba', 'radar', 'level']"
   ]
  },
  {
   "cell_type": "code",
   "execution_count": 78,
   "id": "8ea096b2-e1dc-45ca-882a-7bc0902a6fa9",
   "metadata": {},
   "outputs": [
    {
     "ename": "SyntaxError",
     "evalue": "invalid syntax (1684887835.py, line 1)",
     "output_type": "error",
     "traceback": [
      "\u001b[0;36m  Cell \u001b[0;32mIn[78], line 1\u001b[0;36m\u001b[0m\n\u001b[0;31m    l3 = list(map(lambda x : if x == reverse(x) , l2))\u001b[0m\n\u001b[0m                             ^\u001b[0m\n\u001b[0;31mSyntaxError\u001b[0m\u001b[0;31m:\u001b[0m invalid syntax\n"
     ]
    }
   ],
   "source": [
    "l3 = list(map(lambda x : if x == reverse(x) , l2))"
   ]
  },
  {
   "cell_type": "code",
   "execution_count": 75,
   "id": "deb7c65a-2e5a-48e8-89de-31585f76fba6",
   "metadata": {},
   "outputs": [],
   "source": []
  },
  {
   "cell_type": "code",
   "execution_count": 76,
   "id": "c160cc45-36a6-4853-8a03-2dbb7683649c",
   "metadata": {},
   "outputs": [
    {
     "data": {
      "text/plain": [
       "['level', 'radar', 'aba', 'php', 'python']"
      ]
     },
     "execution_count": 76,
     "metadata": {},
     "output_type": "execute_result"
    }
   ],
   "source": [
    "l2"
   ]
  },
  {
   "cell_type": "code",
   "execution_count": 77,
   "id": "0752cbd1-649a-4914-a6a6-232ee153c3fb",
   "metadata": {},
   "outputs": [
    {
     "data": {
      "text/plain": [
       "['jasdeep']"
      ]
     },
     "execution_count": 77,
     "metadata": {},
     "output_type": "execute_result"
    }
   ],
   "source": [
    "l3"
   ]
  },
  {
   "cell_type": "code",
   "execution_count": null,
   "id": "b81cc7d2-f187-4265-b010-0ed0cfeece8a",
   "metadata": {},
   "outputs": [],
   "source": []
  }
 ],
 "metadata": {
  "kernelspec": {
   "display_name": "Python 3 (ipykernel)",
   "language": "python",
   "name": "python3"
  },
  "language_info": {
   "codemirror_mode": {
    "name": "ipython",
    "version": 3
   },
   "file_extension": ".py",
   "mimetype": "text/x-python",
   "name": "python",
   "nbconvert_exporter": "python",
   "pygments_lexer": "ipython3",
   "version": "3.10.8"
  }
 },
 "nbformat": 4,
 "nbformat_minor": 5
}
