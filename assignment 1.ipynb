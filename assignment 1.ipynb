{
 "cells": [
  {
   "cell_type": "markdown",
   "id": "aa6bd9b0-98ea-4eb3-8ee7-06f3a30e8fd4",
   "metadata": {},
   "source": [
    "# question 1\n",
    " *  sol-\n",
    "    "
   ]
  },
  {
   "cell_type": "code",
   "execution_count": 17,
   "id": "16edad13-9134-461d-9382-1ef1fa5f86c0",
   "metadata": {},
   "outputs": [],
   "source": [
    "A = \"jasdeep\""
   ]
  },
  {
   "cell_type": "code",
   "execution_count": 18,
   "id": "05bd83da-0b59-4786-969f-b1b074735f72",
   "metadata": {},
   "outputs": [],
   "source": [
    "B = [65, 96.36, True, \"pwskills\", 54+69j]"
   ]
  },
  {
   "cell_type": "code",
   "execution_count": 19,
   "id": "58d9f798-912b-49ba-bd57-70b7f9558661",
   "metadata": {},
   "outputs": [],
   "source": [
    "C = 98.999"
   ]
  },
  {
   "cell_type": "code",
   "execution_count": 20,
   "id": "c0b59347-5f5c-4f34-9f94-877861682d84",
   "metadata": {},
   "outputs": [],
   "source": [
    "D = [\"jasdeep\", \"pwskills\", \"datascience\"]"
   ]
  },
  {
   "cell_type": "code",
   "execution_count": 21,
   "id": "32f6f1d3-aa40-4c51-b4dc-8433bad1422a",
   "metadata": {},
   "outputs": [
    {
     "data": {
      "text/plain": [
       "str"
      ]
     },
     "execution_count": 21,
     "metadata": {},
     "output_type": "execute_result"
    }
   ],
   "source": [
    "type(A)"
   ]
  },
  {
   "cell_type": "code",
   "execution_count": 22,
   "id": "53891113-7c75-4e8f-b3c0-1d212f8d009d",
   "metadata": {},
   "outputs": [
    {
     "data": {
      "text/plain": [
       "list"
      ]
     },
     "execution_count": 22,
     "metadata": {},
     "output_type": "execute_result"
    }
   ],
   "source": [
    "type(B)"
   ]
  },
  {
   "cell_type": "code",
   "execution_count": 23,
   "id": "776f1571-e04c-46ca-be48-2bf39a786aff",
   "metadata": {},
   "outputs": [
    {
     "data": {
      "text/plain": [
       "float"
      ]
     },
     "execution_count": 23,
     "metadata": {},
     "output_type": "execute_result"
    }
   ],
   "source": [
    "type(C)"
   ]
  },
  {
   "cell_type": "code",
   "execution_count": 24,
   "id": "adcff532-0072-4b3c-8c3f-4a519cfa25c1",
   "metadata": {},
   "outputs": [
    {
     "data": {
      "text/plain": [
       "list"
      ]
     },
     "execution_count": 24,
     "metadata": {},
     "output_type": "execute_result"
    }
   ],
   "source": [
    "type(D)"
   ]
  },
  {
   "cell_type": "markdown",
   "id": "2d615276-35dc-4ddd-8e1f-85221bfd57f6",
   "metadata": {},
   "source": [
    "# QUESTION 2 \n",
    " * sol-"
   ]
  },
  {
   "cell_type": "code",
   "execution_count": 26,
   "id": "08a3a2a6-ec7d-4c4f-8ec0-99eac8db05cd",
   "metadata": {},
   "outputs": [],
   "source": [
    "#GIVEN (i)\n",
    "var1 = ''"
   ]
  },
  {
   "cell_type": "code",
   "execution_count": 27,
   "id": "3e3df556-304a-4c0e-9cde-d7cd7c237197",
   "metadata": {},
   "outputs": [
    {
     "data": {
      "text/plain": [
       "str"
      ]
     },
     "execution_count": 27,
     "metadata": {},
     "output_type": "execute_result"
    }
   ],
   "source": [
    "type(var1)"
   ]
  },
  {
   "cell_type": "code",
   "execution_count": 28,
   "id": "4e015bf4-485d-4af0-b23b-50cc6f885a57",
   "metadata": {},
   "outputs": [],
   "source": [
    "#given (ii)\n",
    "var2 = '[ds , ml , python]'"
   ]
  },
  {
   "cell_type": "code",
   "execution_count": 29,
   "id": "78171500-9888-469d-b3c4-9e8a28502c84",
   "metadata": {},
   "outputs": [
    {
     "data": {
      "text/plain": [
       "str"
      ]
     },
     "execution_count": 29,
     "metadata": {},
     "output_type": "execute_result"
    }
   ],
   "source": [
    "type(var2)"
   ]
  },
  {
   "cell_type": "code",
   "execution_count": 30,
   "id": "d2ea5f30-1814-4240-9dc4-fb9f9f09f1fa",
   "metadata": {},
   "outputs": [],
   "source": [
    "#given (iii)\n",
    "var3 = ['ds' , 'ml', 'python']"
   ]
  },
  {
   "cell_type": "code",
   "execution_count": 31,
   "id": "99d7ac86-cbf9-466d-8251-268b3c1a6a10",
   "metadata": {},
   "outputs": [
    {
     "data": {
      "text/plain": [
       "list"
      ]
     },
     "execution_count": 31,
     "metadata": {},
     "output_type": "execute_result"
    }
   ],
   "source": [
    "type(var3)"
   ]
  },
  {
   "cell_type": "code",
   "execution_count": 32,
   "id": "edc50cf5-e626-45b5-8993-6f9744d9f04f",
   "metadata": {},
   "outputs": [],
   "source": [
    "#given (iv)\n",
    "var4 = 1"
   ]
  },
  {
   "cell_type": "code",
   "execution_count": 33,
   "id": "b7ab5a2f-7c68-4e4f-966a-9bd3fd52ef54",
   "metadata": {},
   "outputs": [
    {
     "data": {
      "text/plain": [
       "int"
      ]
     },
     "execution_count": 33,
     "metadata": {},
     "output_type": "execute_result"
    }
   ],
   "source": [
    "type(var4)"
   ]
  },
  {
   "cell_type": "markdown",
   "id": "9f6e9f72-6e50-4a38-aab0-f02f5eb0fd89",
   "metadata": {},
   "source": [
    "question 3\n",
    "# explain the use of these following operators"
   ]
  },
  {
   "cell_type": "code",
   "execution_count": null,
   "id": "3bae929d-a7db-4fbc-a73e-77982d2727dd",
   "metadata": {},
   "outputs": [],
   "source": [
    "# i) '/' =  this is a division operator which divides the two number and gives the quotient\n",
    " * example - \n",
    "    \n",
    "10/5"
   ]
  },
  {
   "cell_type": "code",
   "execution_count": 43,
   "id": "d665d79e-9b2d-4658-b9e1-23e21e3023fa",
   "metadata": {},
   "outputs": [
    {
     "data": {
      "text/plain": [
       "7"
      ]
     },
     "execution_count": 43,
     "metadata": {},
     "output_type": "execute_result"
    }
   ],
   "source": [
    "# ii) '%' = this is the modulus operator which compares the two number and gives the ramainder \n",
    "# example - \n",
    "\n",
    "40%11"
   ]
  },
  {
   "cell_type": "code",
   "execution_count": 44,
   "id": "d522b7cc-3a08-4ea1-8cb5-516927af7589",
   "metadata": {},
   "outputs": [
    {
     "data": {
      "text/plain": [
       "7"
      ]
     },
     "execution_count": 44,
     "metadata": {},
     "output_type": "execute_result"
    }
   ],
   "source": [
    "# iii) '//' = this is a floor division which rounds the result into nearest whole number \n",
    "# ewxample - \n",
    "\n",
    "15//2"
   ]
  },
  {
   "cell_type": "code",
   "execution_count": 45,
   "id": "2f855897-a93a-4951-bec9-c22596fcd12e",
   "metadata": {},
   "outputs": [
    {
     "data": {
      "text/plain": [
       "1296"
      ]
     },
     "execution_count": 45,
     "metadata": {},
     "output_type": "execute_result"
    }
   ],
   "source": [
    "# iv) '**' = this is a exponentiation operator which take the second input as the power of 1st unput number \n",
    "# example - \n",
    "\n",
    "6**4"
   ]
  },
  {
   "cell_type": "markdown",
   "id": "b19be713-9e61-4fb3-9860-c2b8618e1bd8",
   "metadata": {},
   "source": [
    "# QUESTION 4  - \n",
    "\n",
    " *SOLUTION - "
   ]
  },
  {
   "cell_type": "code",
   "execution_count": 2,
   "id": "a34714f3-7b13-497a-a4e7-3bbeac0ed75a",
   "metadata": {},
   "outputs": [
    {
     "name": "stdout",
     "output_type": "stream",
     "text": [
      "56\n",
      "<class 'int'>\n",
      "69\n",
      "<class 'int'>\n",
      "63.36\n",
      "<class 'float'>\n",
      "(65+69j)\n",
      "<class 'complex'>\n",
      "jasdeep\n",
      "<class 'str'>\n",
      "True\n",
      "<class 'bool'>\n",
      "98.99\n",
      "<class 'float'>\n",
      "False\n",
      "<class 'bool'>\n",
      "pwskills\n",
      "<class 'str'>\n",
      "(69+89j)\n",
      "<class 'complex'>\n",
      "DONE\n"
     ]
    }
   ],
   "source": [
    "list = [56,69,63.36,65+69j,'jasdeep', True , 98.99 , False , \"pwskills\", 89j+69]\n",
    "\n",
    "for i in list : \n",
    "    print(i)\n",
    "    print(type(i))\n",
    "    \n",
    "else : \n",
    "     print(\"DONE\")"
   ]
  },
  {
   "cell_type": "markdown",
   "id": "a419e1d3-df36-4b58-8145-5d73b43a6a33",
   "metadata": {},
   "source": [
    "# QUESTION 6 \n",
    " *SOLUTION - "
   ]
  },
  {
   "cell_type": "code",
   "execution_count": 6,
   "id": "ef61a827-d56f-4086-b574-c30af90a2d4b",
   "metadata": {},
   "outputs": [
    {
     "name": "stdout",
     "output_type": "stream",
     "text": [
      "1\n",
      "no it is not divisible\n",
      "2\n",
      "no it is not divisible\n",
      "3\n",
      "no it is not divisible\n",
      "4\n",
      "no it is not divisible\n",
      "5\n",
      "no it is not divisible\n",
      "6\n",
      "no it is not divisible\n",
      "7\n",
      "no it is not divisible\n",
      "8\n",
      "no it is not divisible\n",
      "9\n",
      "no it is not divisible\n",
      "10\n",
      "no it is not divisible\n",
      "11\n",
      "no it is not divisible\n",
      "12\n",
      "no it is not divisible\n",
      "13\n",
      "no it is not divisible\n",
      "14\n",
      "no it is not divisible\n",
      "15\n",
      "no it is not divisible\n",
      "16\n",
      "no it is not divisible\n",
      "17\n",
      "no it is not divisible\n",
      "18\n",
      "no it is not divisible\n",
      "19\n",
      "no it is not divisible\n",
      "20\n",
      "no it is not divisible\n",
      "21\n",
      "no it is not divisible\n",
      "22\n",
      "no it is not divisible\n",
      "23\n",
      "no it is not divisible\n",
      "24\n",
      "no it is not divisible\n",
      "25\n",
      "no it is not divisible\n"
     ]
    }
   ],
   "source": [
    "l = [1,2,3,4,5,6,7,8,9,10,11,12,13,14,15,16,17,18,19,20,21,22,23,24,25]\n",
    "for i in l:\n",
    "    print(i)\n",
    "    i = i/3 \n",
    "    if i == 0 :\n",
    "        print(\"yes it is divisible\")\n",
    "    else   :\n",
    "        print(\"no it is not divisible\")"
   ]
  },
  {
   "cell_type": "markdown",
   "id": "203410c9-2480-41ec-9ea3-9cad8bc21a86",
   "metadata": {},
   "source": [
    "# question 5 \n",
    "\n",
    "* solution - "
   ]
  }
 ],
 "metadata": {
  "kernelspec": {
   "display_name": "Python 3 (ipykernel)",
   "language": "python",
   "name": "python3"
  },
  "language_info": {
   "codemirror_mode": {
    "name": "ipython",
    "version": 3
   },
   "file_extension": ".py",
   "mimetype": "text/x-python",
   "name": "python",
   "nbconvert_exporter": "python",
   "pygments_lexer": "ipython3",
   "version": "3.10.8"
  }
 },
 "nbformat": 4,
 "nbformat_minor": 5
}
