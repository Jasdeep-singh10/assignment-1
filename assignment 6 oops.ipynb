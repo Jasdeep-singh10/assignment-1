{
 "cells": [
  {
   "cell_type": "markdown",
   "metadata": {},
   "source": [
    "question 1 - \n",
    "\n",
    "answer - \n",
    "        abstraction is one of the pillars of oops. in abstraction we create a basic structure of class with common functions to perform in different various functions and we access those basic function in other different classes with each function has a different definiton or task. \n",
    "\n",
    "        example - "
   ]
  },
  {
   "cell_type": "code",
   "execution_count": 1,
   "metadata": {},
   "outputs": [],
   "source": [
    "import abc\n",
    "class pwskills : \n",
    "    @abc.abstractmethod\n",
    "    def student_details(self) : \n",
    "        pass\n",
    "\n",
    "    @abc.abstractmethod\n",
    "    def student_assignment(self) :\n",
    "        pass\n",
    "    @abc.abstractmethod\n",
    "    def student_course(self) : \n",
    "        pass"
   ]
  },
  {
   "cell_type": "code",
   "execution_count": 3,
   "metadata": {},
   "outputs": [],
   "source": [
    "class data_science(pwskills) :\n",
    "    def student_details(self):\n",
    "        return 'this is an example of student assignment'\n",
    "    \n",
    "    def student_assignment(self):\n",
    "        return 'this is an example of assignment' \n",
    "    "
   ]
  },
  {
   "cell_type": "code",
   "execution_count": 4,
   "metadata": {},
   "outputs": [],
   "source": [
    "class web_dev(pwskills) : \n",
    "     def student_details(self):\n",
    "        return 'this is an example of student assignment'\n",
    "    \n",
    "     def student_course(self):\n",
    "        return 'this is an example of course' "
   ]
  },
  {
   "cell_type": "code",
   "execution_count": 6,
   "metadata": {},
   "outputs": [],
   "source": [
    "shubham = data_science()"
   ]
  },
  {
   "cell_type": "code",
   "execution_count": 7,
   "metadata": {},
   "outputs": [
    {
     "data": {
      "text/plain": [
       "'this is an example of assignment'"
      ]
     },
     "execution_count": 7,
     "metadata": {},
     "output_type": "execute_result"
    }
   ],
   "source": [
    "shubham.student_assignment()"
   ]
  },
  {
   "cell_type": "code",
   "execution_count": 8,
   "metadata": {},
   "outputs": [],
   "source": [
    "shubham = web_dev()"
   ]
  },
  {
   "cell_type": "code",
   "execution_count": 9,
   "metadata": {},
   "outputs": [
    {
     "data": {
      "text/plain": [
       "'this is an example of course'"
      ]
     },
     "execution_count": 9,
     "metadata": {},
     "output_type": "execute_result"
    }
   ],
   "source": [
    "shubham.student_course()"
   ]
  },
  {
   "cell_type": "markdown",
   "metadata": {},
   "source": [
    "question 2 \n",
    "\n",
    "answer - \n",
    "         in abstraction we create the basic structure of class with common function to perform under different classes and define those function according to the specific task under each class while in Encapsulation we capsulate the instance or restrict the direct access of instance to prevent it from changing its values. "
   ]
  },
  {
   "cell_type": "markdown",
   "metadata": {},
   "source": [
    "question 3 \n",
    "\n",
    "answer - \n",
    "        abc module is a absrtact base used in class function. it is used to make that class an interface for the coders to create different classes with the same interface. "
   ]
  },
  {
   "cell_type": "markdown",
   "metadata": {},
   "source": [
    "question 4 \n",
    " \n",
    "answer - \n",
    "         we can achieve data abstraction by importing abc in the start of the code and under class, we use '@abc.abstractmethod' to make that a fucntion an abstraction function. "
   ]
  },
  {
   "cell_type": "markdown",
   "metadata": {},
   "source": [
    "question 5 \n",
    "\n",
    "answer - \n",
    "         we can create instance for an abstract class by assignning the abstract class to that particular instance and we can access functions of instance class by using dot operator. we can access throgh dot operator along with instance name then functions name to be called.  \n",
    "                                        \"instance_name.function_name()\""
   ]
  },
  {
   "cell_type": "code",
   "execution_count": null,
   "metadata": {},
   "outputs": [],
   "source": []
  }
 ],
 "metadata": {
  "kernelspec": {
   "display_name": "Python 3",
   "language": "python",
   "name": "python3"
  },
  "language_info": {
   "codemirror_mode": {
    "name": "ipython",
    "version": 3
   },
   "file_extension": ".py",
   "mimetype": "text/x-python",
   "name": "python",
   "nbconvert_exporter": "python",
   "pygments_lexer": "ipython3",
   "version": "3.11.9"
  }
 },
 "nbformat": 4,
 "nbformat_minor": 2
}
